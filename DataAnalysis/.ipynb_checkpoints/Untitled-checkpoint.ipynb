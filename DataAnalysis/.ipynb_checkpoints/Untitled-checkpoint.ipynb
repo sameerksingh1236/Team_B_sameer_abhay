{
 "cells": [
  {
   "cell_type": "code",
   "execution_count": null,
   "id": "caa16b05",
   "metadata": {},
   "outputs": [],
   "source": [
    "import numpy as np"
   ]
  },
  {
   "cell_type": "code",
   "execution_count": null,
   "id": "52c357a2",
   "metadata": {},
   "outputs": [],
   "source": [
    "import pandas as pd"
   ]
  },
  {
   "cell_type": "code",
   "execution_count": null,
   "id": "aa980900",
   "metadata": {},
   "outputs": [],
   "source": [
    "data=pd.read_excel(r'C:\\Users\\abhay\\Documents\\NewRepo\\Team_B_sameer_abhay\\DataAnalysis\\OnlineRetail.xlsx')"
   ]
  },
  {
   "cell_type": "code",
   "execution_count": null,
   "id": "79166277",
   "metadata": {},
   "outputs": [],
   "source": [
    "#data.head()"
   ]
  },
  {
   "cell_type": "code",
   "execution_count": null,
   "id": "af2ce31d",
   "metadata": {},
   "outputs": [],
   "source": [
    "import seaborn as snb"
   ]
  },
  {
   "cell_type": "code",
   "execution_count": null,
   "id": "6b5997d7",
   "metadata": {},
   "outputs": [],
   "source": [
    "#snb.set(rc={'figure.figsize':(11.7,8.27)})"
   ]
  },
  {
   "cell_type": "code",
   "execution_count": null,
   "id": "5be8f0e1",
   "metadata": {},
   "outputs": [],
   "source": [
    "%matplotlib inline"
   ]
  },
  {
   "cell_type": "code",
   "execution_count": null,
   "id": "f755c231",
   "metadata": {},
   "outputs": [],
   "source": [
    "data['month']=data['InvoiceDate'].dt.month"
   ]
  },
  {
   "cell_type": "code",
   "execution_count": null,
   "id": "eda0d1f1",
   "metadata": {},
   "outputs": [],
   "source": [
    "#data['InvoiceDate']"
   ]
  },
  {
   "cell_type": "code",
   "execution_count": null,
   "id": "3f9be2ea",
   "metadata": {},
   "outputs": [],
   "source": [
    "data['year']=data['InvoiceDate'].dt.year"
   ]
  },
  {
   "cell_type": "code",
   "execution_count": null,
   "id": "8a21b655",
   "metadata": {},
   "outputs": [],
   "source": [
    "data.groupby(['Country']).size()"
   ]
  },
  {
   "cell_type": "code",
   "execution_count": null,
   "id": "999c90cd",
   "metadata": {},
   "outputs": [],
   "source": [
    "data.groupby(['Country']).size().plot(kind='bar')"
   ]
  },
  {
   "cell_type": "code",
   "execution_count": null,
   "id": "6c871227",
   "metadata": {},
   "outputs": [],
   "source": [
    "#snb.distplot(data.groupby(['Country']).size())\n",
    "s=data.groupby(['Country']).size()\n",
    "#snb.barplot(x=s.index,y=s.values)\n",
    "snb.distplot(s)"
   ]
  },
  {
   "cell_type": "markdown",
   "id": "bb5216e9",
   "metadata": {},
   "source": [
    "Customer plot by month"
   ]
  },
  {
   "cell_type": "code",
   "execution_count": null,
   "id": "5ddba1b4",
   "metadata": {},
   "outputs": [],
   "source": [
    "customer_by_month=data.groupby(['month']).size()\n",
    "snb.barplot(x=customer_by_month.index,y=customer_by_month.values)"
   ]
  },
  {
   "cell_type": "markdown",
   "id": "520ff0bb",
   "metadata": {},
   "source": [
    "Customer plot by year"
   ]
  },
  {
   "cell_type": "code",
   "execution_count": null,
   "id": "14eb34e5",
   "metadata": {},
   "outputs": [],
   "source": [
    "customer_by_year=data.groupby(['year']).size()\n",
    "snb.barplot(x=customer_by_year.index,y=customer_by_year.values)"
   ]
  },
  {
   "cell_type": "markdown",
   "id": "84fdb57f",
   "metadata": {},
   "source": [
    "Customer by month and year both"
   ]
  },
  {
   "cell_type": "code",
   "execution_count": null,
   "id": "e9bb2e44",
   "metadata": {},
   "outputs": [],
   "source": [
    "customer_by_month_and_year=data.groupby(['month','year']).size()\n",
    "#customer_by_month_and_year\n",
    "#snb.barplot(x=customer_by_month_and_year.index,y=customer_by_month_and_year.values)"
   ]
  },
  {
   "cell_type": "code",
   "execution_count": null,
   "id": "8e0b4999",
   "metadata": {
    "scrolled": false
   },
   "outputs": [],
   "source": [
    "customer_by_month_and_year.unstack(level=0).plot(kind='bar',subplots=True)"
   ]
  },
  {
   "cell_type": "markdown",
   "id": "e55fdd54",
   "metadata": {},
   "source": [
    "One time buyer"
   ]
  },
  {
   "cell_type": "code",
   "execution_count": null,
   "id": "40076c38",
   "metadata": {},
   "outputs": [],
   "source": [
    "#data.groupby('CustomerID').size()==1]\n",
    "#data[data['CustomerID'].value_counts()==1]\n",
    "data['CustomerID'].value_counts(len=1)"
   ]
  },
  {
   "cell_type": "code",
   "execution_count": null,
   "id": "96ce0e41",
   "metadata": {},
   "outputs": [],
   "source": []
  },
  {
   "cell_type": "code",
   "execution_count": null,
   "id": "22dc6784",
   "metadata": {},
   "outputs": [],
   "source": [
    "data.head()"
   ]
  },
  {
   "cell_type": "code",
   "execution_count": null,
   "id": "3afa74b9",
   "metadata": {},
   "outputs": [],
   "source": [
    "df['Description'].value_counts(normalize=False, sort=True, ascending=False, bins=None, dropna=True)"
   ]
  },
  {
   "cell_type": "code",
   "execution_count": null,
   "id": "3a0e4409",
   "metadata": {},
   "outputs": [],
   "source": [
    "data['Description'].value_counts().nlargest(10)"
   ]
  },
  {
   "cell_type": "code",
   "execution_count": null,
   "id": "24a5441c",
   "metadata": {},
   "outputs": [],
   "source": [
    "import seaborn as snb"
   ]
  },
  {
   "cell_type": "code",
   "execution_count": null,
   "id": "6de99acb",
   "metadata": {},
   "outputs": [],
   "source": [
    "%matplotlib inline"
   ]
  },
  {
   "cell_type": "code",
   "execution_count": null,
   "id": "6dc3ea37",
   "metadata": {},
   "outputs": [],
   "source": [
    "snb.distplot(data['InvoiceDate'])"
   ]
  },
  {
   "cell_type": "code",
   "execution_count": null,
   "id": "dae33d89",
   "metadata": {},
   "outputs": [],
   "source": [
    "data['Revenue']=data['Quantity']*data['UnitPrice']"
   ]
  },
  {
   "cell_type": "code",
   "execution_count": null,
   "id": "9662bdb1",
   "metadata": {},
   "outputs": [],
   "source": [
    "#Top 10products sold\n",
    "data['Product_Quantity']=data.groupby(['Description']).transform('count')"
   ]
  },
  {
   "cell_type": "code",
   "execution_count": null,
   "id": "01a622aa",
   "metadata": {},
   "outputs": [],
   "source": [
    "data.head()"
   ]
  },
  {
   "cell_type": "code",
   "execution_count": null,
   "id": "a99cdb59",
   "metadata": {},
   "outputs": [],
   "source": []
  },
  {
   "cell_type": "code",
   "execution_count": null,
   "id": "647bccb1",
   "metadata": {},
   "outputs": [],
   "source": []
  },
  {
   "cell_type": "code",
   "execution_count": null,
   "id": "b8dd0e64",
   "metadata": {},
   "outputs": [],
   "source": []
  },
  {
   "cell_type": "code",
   "execution_count": null,
   "id": "ca36c99c",
   "metadata": {},
   "outputs": [],
   "source": []
  },
  {
   "cell_type": "code",
   "execution_count": null,
   "id": "29fc1295",
   "metadata": {},
   "outputs": [],
   "source": []
  },
  {
   "cell_type": "code",
   "execution_count": null,
   "id": "f55aaf39",
   "metadata": {},
   "outputs": [],
   "source": []
  }
 ],
 "metadata": {
  "kernelspec": {
   "display_name": "Python 3",
   "language": "python",
   "name": "python3"
  },
  "language_info": {
   "codemirror_mode": {
    "name": "ipython",
    "version": 3
   },
   "file_extension": ".py",
   "mimetype": "text/x-python",
   "name": "python",
   "nbconvert_exporter": "python",
   "pygments_lexer": "ipython3",
   "version": "3.9.2"
  }
 },
 "nbformat": 4,
 "nbformat_minor": 5
}
